{
 "cells": [
  {
   "cell_type": "code",
   "execution_count": 2,
   "metadata": {},
   "outputs": [
    {
     "name": "stdout",
     "output_type": "stream",
     "text": [
      "Index(['id', 'type', 'name', 'yearpublished', 'minplayers', 'maxplayers',\n",
      "       'playingtime', 'minplaytime', 'maxplaytime', 'minage', 'users_rated',\n",
      "       'average_rating', 'bayes_average_rating', 'total_owners',\n",
      "       'total_traders', 'total_wanters', 'total_wishers', 'total_comments',\n",
      "       'total_weights', 'average_weight'],\n",
      "      dtype='object')\n"
     ]
    }
   ],
   "source": [
    "# Import the pandas library.\n",
    "import pandas\n",
    "\n",
    "# Read in the data.\n",
    "games = pandas.read_csv(\"board_games.csv\")\n",
    "# Print the names of the columns in games.\n",
    "print(games.columns)"
   ]
  },
  {
   "cell_type": "code",
   "execution_count": 3,
   "metadata": {},
   "outputs": [
    {
     "name": "stdout",
     "output_type": "stream",
     "text": [
      "(81312, 20)\n"
     ]
    }
   ],
   "source": [
    "print(games.shape)\n"
   ]
  },
  {
   "cell_type": "code",
   "execution_count": 4,
   "metadata": {},
   "outputs": [
    {
     "data": {
      "image/png": "[encoded data removed]",
      "text/plain": [
       "<matplotlib.figure.Figure at 0x252b2d1bc50>"
      ]
     },
     "metadata": {},
     "output_type": "display_data"
    }
   ],
   "source": [
    "# Import matplotlib\n",
    "import matplotlib.pyplot as plt\n",
    "\n",
    "# Make a histogram of all the ratings in the average_rating column.\n",
    "plt.hist(games[\"average_rating\"])\n",
    "\n",
    "# Show the plot.\n",
    "plt.show()"
   ]
  },
  {
   "cell_type": "code",
   "execution_count": 5,
   "metadata": {},
   "outputs": [
    {
     "name": "stdout",
     "output_type": "stream",
     "text": [
      "id                             318\n",
      "type                     boardgame\n",
      "name                    Looney Leo\n",
      "yearpublished                    0\n",
      "minplayers                       0\n",
      "maxplayers                       0\n",
      "playingtime                      0\n",
      "minplaytime                      0\n",
      "maxplaytime                      0\n",
      "minage                           0\n",
      "users_rated                      0\n",
      "average_rating                   0\n",
      "bayes_average_rating             0\n",
      "total_owners                     0\n",
      "total_traders                    0\n",
      "total_wanters                    0\n",
      "total_wishers                    1\n",
      "total_comments                   0\n",
      "total_weights                    0\n",
      "average_weight                   0\n",
      "Name: 13048, dtype: object\n",
      "id                                  12333\n",
      "type                            boardgame\n",
      "name                    Twilight Struggle\n",
      "yearpublished                        2005\n",
      "minplayers                              2\n",
      "maxplayers                              2\n",
      "playingtime                           180\n",
      "minplaytime                           180\n",
      "maxplaytime                           180\n",
      "minage                                 13\n",
      "users_rated                         20113\n",
      "average_rating                    8.33774\n",
      "bayes_average_rating              8.22186\n",
      "total_owners                        26647\n",
      "total_traders                         372\n",
      "total_wanters                        1219\n",
      "total_wishers                        5865\n",
      "total_comments                       5347\n",
      "total_weights                        2562\n",
      "average_weight                     3.4785\n",
      "Name: 0, dtype: object\n"
     ]
    }
   ],
   "source": [
    "print(games[games[\"average_rating\"] == 0].iloc[0])\n",
    "print(games[games[\"average_rating\"] > 0].iloc[0])"
   ]
  },
  {
   "cell_type": "code",
   "execution_count": 6,
   "metadata": {
    "collapsed": true
   },
   "outputs": [],
   "source": [
    "games = games[games[\"users_rated\"] > 0]\n",
    "games = games.dropna(axis=0)"
   ]
  },
  {
   "cell_type": "code",
   "execution_count": 7,
   "metadata": {
    "collapsed": true
   },
   "outputs": [],
   "source": [
    "# Import the kmeans clustering model.\n",
    "from sklearn.cluster import KMeans\n",
    "\n",
    "# Initialize the model with 2 parameters -- number of clusters and random state.\n",
    "kmeans_model = KMeans(n_clusters=5, random_state=1)\n",
    "# Get only the numeric columns from games.\n",
    "good_columns = games._get_numeric_data()\n",
    "# Fit the model using the good columns.\n",
    "kmeans_model.fit(good_columns)\n",
    "# Get the cluster assignments.\n",
    "labels = kmeans_model.labels_"
   ]
  },
  {
   "cell_type": "code",
   "execution_count": 8,
   "metadata": {},
   "outputs": [
    {
     "data": {
      "image/png": "[encoded data removed]",
      "text/plain": [
       "<matplotlib.figure.Figure at 0x252b4820da0>"
      ]
     },
     "metadata": {},
     "output_type": "display_data"
    }
   ],
   "source": [
    "# Import the PCA model.\n",
    "from sklearn.decomposition import PCA\n",
    "\n",
    "# Create a PCA model.\n",
    "pca_2 = PCA(2)\n",
    "# Fit the PCA model on the numeric columns from earlier.\n",
    "plot_columns = pca_2.fit_transform(good_columns)\n",
    "# Make a scatter plot of each game, shaded according to cluster assignment.\n",
    "plt.scatter(x=plot_columns[:,0], y=plot_columns[:,1], c=labels)\n",
    "# Show the plot.\n",
    "plt.show()"
   ]
  },
  {
   "cell_type": "code",
   "execution_count": 9,
   "metadata": {},
   "outputs": [
    {
     "data": {
      "text/plain": [
       "id                      0.304201\n",
       "yearpublished           0.108461\n",
       "minplayers             -0.032701\n",
       "maxplayers             -0.008335\n",
       "playingtime             0.048994\n",
       "minplaytime             0.043985\n",
       "maxplaytime             0.048994\n",
       "minage                  0.210049\n",
       "users_rated             0.112564\n",
       "average_rating          1.000000\n",
       "bayes_average_rating    0.231563\n",
       "total_owners            0.137478\n",
       "total_traders           0.119452\n",
       "total_wanters           0.196566\n",
       "total_wishers           0.171375\n",
       "total_comments          0.123714\n",
       "total_weights           0.109691\n",
       "average_weight          0.351081\n",
       "Name: average_rating, dtype: float64"
      ]
     },
     "execution_count": 9,
     "metadata": {},
     "output_type": "execute_result"
    }
   ],
   "source": [
    "games.corr()[\"average_rating\"]\n"
   ]
  },
  {
   "cell_type": "code",
   "execution_count": 10,
   "metadata": {
    "collapsed": true
   },
   "outputs": [],
   "source": [
    "columns = games.columns.tolist()\n",
    "columns = [c for c in columns if c not in [\"bayes_average_rating\", \"average_rating\", \"type\", \"name\"]]\n",
    "target = \"average_rating\""
   ]
  },
  {
   "cell_type": "code",
   "execution_count": 11,
   "metadata": {},
   "outputs": [
    {
     "name": "stdout",
     "output_type": "stream",
     "text": [
      "(45515, 20)\n",
      "(11379, 20)\n"
     ]
    },
    {
     "name": "stderr",
     "output_type": "stream",
     "text": [
      "C:\\Users\\Dev\\Anaconda3\\lib\\site-packages\\sklearn\\cross_validation.py:41: DeprecationWarning: This module was deprecated in version 0.18 in favor of the model_selection module into which all the refactored classes and functions are moved. Also note that the interface of the new CV iterators are different from that of this module. This module will be removed in 0.20.\n",
      "  \"This module will be removed in 0.20.\", DeprecationWarning)\n"
     ]
    }
   ],
   "source": [
    "from sklearn.cross_validation import train_test_split\n",
    "train = games.sample(frac=0.8, random_state=1)\n",
    "test = games.loc[~games.index.isin(train.index)]\n",
    "print(train.shape)\n",
    "print(test.shape)"
   ]
  },
  {
   "cell_type": "code",
   "execution_count": 12,
   "metadata": {},
   "outputs": [
    {
     "data": {
      "text/plain": [
       "LinearRegression(copy_X=True, fit_intercept=True, n_jobs=1, normalize=False)"
      ]
     },
     "execution_count": 12,
     "metadata": {},
     "output_type": "execute_result"
    }
   ],
   "source": [
    "from sklearn.linear_model import LinearRegression\n",
    "model = LinearRegression()\n",
    "model.fit(train[columns], train[target])"
   ]
  },
  {
   "cell_type": "code",
   "execution_count": 13,
   "metadata": {},
   "outputs": [
    {
     "data": {
      "text/plain": [
       "1.8239281903519868"
      ]
     },
     "execution_count": 13,
     "metadata": {},
     "output_type": "execute_result"
    }
   ],
   "source": [
    "from sklearn.metrics import mean_squared_error\n",
    "predictions = model.predict(test[columns])\n",
    "mean_squared_error(predictions, test[target])"
   ]
  },
  {
   "cell_type": "code",
   "execution_count": null,
   "metadata": {},
   "outputs": [
    {
     "name": "stdout",
     "output_type": "stream",
     "text": [
      "1.4144642407\n"
     ]
    }
   ],
   "source": [
    "from sklearn.ensemble import RandomForestRegressor\n",
    "model = RandomForestRegressor(n_estimators=100, min_samples_leaf=10, random_state=1)\n",
    "model.fit(train[columns], train[target])\n",
    "predictions = model.predict(test[columns])\n",
    "print(mean_squared_error(predictions, test[target]))"
   ]
  },
  {
   "cell_type": "code",
   "execution_count": null,
   "metadata": {
    "collapsed": true
   },
   "outputs": [],
   "source": [
    "from tkinter import *\n",
    "import pandas\n",
    "from sklearn.cross_validation import train_test_split\n",
    "from sklearn.linear_model import LinearRegression\n",
    "from sklearn.metrics import mean_squared_error\n",
    "\n",
    "m=[]\n",
    "l=[]\n",
    "def printData(name,year,minplayers,maxplayers,playingtime,minplaytime,maxplaytime,minage,users_rated,total_owners,total_traders,total_wanters,total_wishers,total_comments,total_weights,average_weight,game_id):\n",
    "    \n",
    "    print(name)\n",
    "    print(year)\n",
    "    print(minplayers)\n",
    "    print(maxplayers)\n",
    "    print(playingtime)\n",
    "    print(minplaytime)\n",
    "    print(maxplaytime)\n",
    "    print(minage)\n",
    "    print(users_rated)\n",
    "    print(total_owners)\n",
    "    print(total_traders)\n",
    "    print(total_wanters)\n",
    "    print(total_wishers)\n",
    "    print(total_comments)\n",
    "    print(total_weights)\n",
    "    print(average_weight)\n",
    "    print(game_id)\n",
    "    root.destroy()\n",
    "\n",
    "def get_input():\n",
    "\n",
    "    name = entry1.get()\n",
    "    year = entry2.get()\n",
    "    minplayers=entry3.get()\n",
    "    maxplayers=entry4.get()\n",
    "    playingtime=entry5.get()\n",
    "    minplaytime=entry6.get()\n",
    "    maxplaytime=entry7.get()\n",
    "    minage=entry8.get()\n",
    "    users_rated=entry9.get()\n",
    "    total_owners=entry10.get()\n",
    "    total_traders=entry11.get()\n",
    "    total_wanters=entry12.get()\n",
    "    total_wishers=entry13.get()\n",
    "    total_comments=entry14.get()\n",
    "    total_weights=entry15.get()\n",
    "    average_weight=entry16.get()\n",
    "    game_id=entry17.get()\n",
    "    \n",
    "    \n",
    "    m=[year,minplayers,maxplayers,playingtime,minplaytime,maxplaytime,minage,users_rated,total_owners,total_traders,total_wanters,total_wishers,total_comments,total_weights,average_weight]\n",
    "    l.append(m)\n",
    "    printData(name,year,minplayers,maxplayers,playingtime,minplaytime,maxplaytime,minage,users_rated,total_owners,total_traders,total_wanters,total_wishers,total_comments,total_weights,average_weight,game_id)\n",
    "\n",
    "root=Tk()\n",
    "\n",
    "label1 = Label(root,text = 'Name of Board Game')\n",
    "label1.pack()\n",
    "label1.config(justify = CENTER)\n",
    "entry1=Entry(root,width=30)\n",
    "entry1.pack()\n",
    "\n",
    "label2 = Label(root,text = 'year published')\n",
    "label2.pack()\n",
    "label2.config(justify = CENTER)\n",
    "entry2=Entry(root,width=30)\n",
    "entry2.pack()\n",
    "\n",
    "label3 = Label(root,text = 'minimum players required to play the game')\n",
    "label3.pack()\n",
    "label3.config(justify = CENTER)\n",
    "entry3=Entry(root,width=30)\n",
    "entry3.pack()\n",
    "\n",
    "label4 = Label(root,text = 'maximum players the game can accomodate')\n",
    "label4.pack()\n",
    "label4.config(justify = CENTER)\n",
    "entry4=Entry(root,width=30)\n",
    "entry4.pack()\n",
    "\n",
    "label5 = Label(root,text = 'expected play time for an average session')\n",
    "label5.pack()\n",
    "label5.config(justify = CENTER)\n",
    "entry5=Entry(root,width=30)\n",
    "entry5.pack()\n",
    "\n",
    "label6 = Label(root,text = 'minimum play time expected')\n",
    "label6.pack()\n",
    "label6.config(justify = CENTER)\n",
    "entry6=Entry(root,width=30)\n",
    "entry6.pack()\n",
    "\n",
    "label7 = Label(root,text = 'maximum play time expeccted')\n",
    "label7.pack()\n",
    "label7.config(justify = CENTER)\n",
    "entry7=Entry(root,width=30)\n",
    "entry7.pack()\n",
    "\n",
    "label8 = Label(root,text = 'minimum age of players')\n",
    "label8.pack()\n",
    "label8.config(justify = CENTER)\n",
    "entry8=Entry(root,width=30)\n",
    "entry8.pack()\n",
    "\n",
    "label9 = Label(root,text = 'number of buyers expected to give a rating')\n",
    "label9.pack()\n",
    "label9.config(justify = CENTER)\n",
    "entry9=Entry(root,width=30)\n",
    "entry9.pack()\n",
    "\n",
    "label10 = Label(root,text = 'number of copies expected to sell')\n",
    "label10.pack()\n",
    "label10.config(justify = CENTER)\n",
    "entry10=Entry(root,width=30)\n",
    "entry10.pack()\n",
    "\n",
    "label11 = Label(root,text = 'total traders booked for distribution of game')\n",
    "label11.pack()\n",
    "label11.config(justify = CENTER)\n",
    "entry11=Entry(root,width=30)\n",
    "entry11.pack()\n",
    "\n",
    "label12 = Label(root,text = 'number of players expressing a desire to play a game')\n",
    "label12.pack()\n",
    "label12.config(justify = CENTER)\n",
    "entry12=Entry(root,width=30)\n",
    "entry12.pack()\n",
    "\n",
    "label13 = Label(root,text = 'number of players who have pre-ordered the game')\n",
    "label13.pack()\n",
    "label13.config(justify = CENTER)\n",
    "entry13=Entry(root,width=30)\n",
    "entry13.pack()\n",
    "\n",
    "label14 = Label(root,text = 'amount of feedback messages given by players')\n",
    "label14.pack()\n",
    "label14.config(justify = CENTER)\n",
    "entry14=Entry(root,width=30)\n",
    "entry14.pack()\n",
    "\n",
    "label15 = Label(root,text = 'total weight of the game')\n",
    "label15.pack()\n",
    "label15.config(justify = CENTER)\n",
    "entry15=Entry(root,width=30)\n",
    "entry15.pack()\n",
    "\n",
    "label16= Label(root,text = 'average weeight of the game')\n",
    "label16.pack()\n",
    "label16.config(justify = CENTER)\n",
    "entry16=Entry(root,width=30)\n",
    "entry16.pack()\n",
    "\n",
    "label17= Label(root,text = 'enter id of game')\n",
    "label17.pack()\n",
    "label17.config(justify = CENTER)\n",
    "entry17=Entry(root,width=30)\n",
    "entry17.pack()\n",
    "\n",
    "button1=Button(root,text='submit')\n",
    "button1.pack()\n",
    "button1.config(command=get_input)\n",
    "root.mainloop()"
   ]
  },
  {
   "cell_type": "code",
   "execution_count": null,
   "metadata": {
    "collapsed": true
   },
   "outputs": [],
   "source": []
  }
 ],
 "metadata": {
  "kernelspec": {
   "display_name": "Python 3",
   "language": "python",
   "name": "python3"
  },
  "language_info": {
   "codemirror_mode": {
    "name": "ipython",
    "version": 3
   },
   "file_extension": ".py",
   "mimetype": "text/x-python",
   "name": "python",
   "nbconvert_exporter": "python",
   "pygments_lexer": "ipython3",
   "version": "3.6.2"
  }
 },
 "nbformat": 4,
 "nbformat_minor": 2
}
