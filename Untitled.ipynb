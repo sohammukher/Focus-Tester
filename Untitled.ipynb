{
 "cells": [
  {
   "cell_type": "code",
   "execution_count": 37,
   "metadata": {
    "collapsed": true
   },
   "outputs": [],
   "source": [
    "from tkinter import *\n",
    "import pandas\n",
    "from sklearn.cross_validation import train_test_split\n",
    "from sklearn.linear_model import LinearRegression\n",
    "from sklearn.metrics import mean_squared_error\n"
   ]
  },
  {
   "cell_type": "code",
   "execution_count": 41,
   "metadata": {
    "scrolled": true
   },
   "outputs": [
    {
     "ename": "FileNotFoundError",
     "evalue": "File b'games.csv' does not exist",
     "output_type": "error",
     "traceback": [
      "\u001b[1;31m---------------------------------------------------------------------------\u001b[0m",
      "\u001b[1;31mFileNotFoundError\u001b[0m                         Traceback (most recent call last)",
      "\u001b[1;32m<ipython-input-41-f0fedf8ba064>\u001b[0m in \u001b[0;36m<module>\u001b[1;34m()\u001b[0m\n\u001b[0;32m    156\u001b[0m \u001b[0mroot\u001b[0m\u001b[1;33m.\u001b[0m\u001b[0mmainloop\u001b[0m\u001b[1;33m(\u001b[0m\u001b[1;33m)\u001b[0m\u001b[1;33m\u001b[0m\u001b[0m\n\u001b[0;32m    157\u001b[0m \u001b[1;33m\u001b[0m\u001b[0m\n\u001b[1;32m--> 158\u001b[1;33m \u001b[0mgames\u001b[0m \u001b[1;33m=\u001b[0m \u001b[0mpandas\u001b[0m\u001b[1;33m.\u001b[0m\u001b[0mread_csv\u001b[0m\u001b[1;33m(\u001b[0m\u001b[1;34m\"games.csv\"\u001b[0m\u001b[1;33m)\u001b[0m\u001b[1;33m\u001b[0m\u001b[0m\n\u001b[0m\u001b[0;32m    159\u001b[0m \u001b[0mgames\u001b[0m \u001b[1;33m=\u001b[0m \u001b[0mgames\u001b[0m\u001b[1;33m.\u001b[0m\u001b[0mdropna\u001b[0m\u001b[1;33m(\u001b[0m\u001b[0maxis\u001b[0m\u001b[1;33m=\u001b[0m\u001b[1;36m0\u001b[0m\u001b[1;33m)\u001b[0m\u001b[1;33m\u001b[0m\u001b[0m\n\u001b[0;32m    160\u001b[0m \u001b[1;33m\u001b[0m\u001b[0m\n",
      "\u001b[1;32m~\\Anaconda3\\lib\\site-packages\\pandas\\io\\parsers.py\u001b[0m in \u001b[0;36mparser_f\u001b[1;34m(filepath_or_buffer, sep, delimiter, header, names, index_col, usecols, squeeze, prefix, mangle_dupe_cols, dtype, engine, converters, true_values, false_values, skipinitialspace, skiprows, nrows, na_values, keep_default_na, na_filter, verbose, skip_blank_lines, parse_dates, infer_datetime_format, keep_date_col, date_parser, dayfirst, iterator, chunksize, compression, thousands, decimal, lineterminator, quotechar, quoting, escapechar, comment, encoding, dialect, tupleize_cols, error_bad_lines, warn_bad_lines, skipfooter, skip_footer, doublequote, delim_whitespace, as_recarray, compact_ints, use_unsigned, low_memory, buffer_lines, memory_map, float_precision)\u001b[0m\n\u001b[0;32m    653\u001b[0m                     skip_blank_lines=skip_blank_lines)\n\u001b[0;32m    654\u001b[0m \u001b[1;33m\u001b[0m\u001b[0m\n\u001b[1;32m--> 655\u001b[1;33m         \u001b[1;32mreturn\u001b[0m \u001b[0m_read\u001b[0m\u001b[1;33m(\u001b[0m\u001b[0mfilepath_or_buffer\u001b[0m\u001b[1;33m,\u001b[0m \u001b[0mkwds\u001b[0m\u001b[1;33m)\u001b[0m\u001b[1;33m\u001b[0m\u001b[0m\n\u001b[0m\u001b[0;32m    656\u001b[0m \u001b[1;33m\u001b[0m\u001b[0m\n\u001b[0;32m    657\u001b[0m     \u001b[0mparser_f\u001b[0m\u001b[1;33m.\u001b[0m\u001b[0m__name__\u001b[0m \u001b[1;33m=\u001b[0m \u001b[0mname\u001b[0m\u001b[1;33m\u001b[0m\u001b[0m\n",
      "\u001b[1;32m~\\Anaconda3\\lib\\site-packages\\pandas\\io\\parsers.py\u001b[0m in \u001b[0;36m_read\u001b[1;34m(filepath_or_buffer, kwds)\u001b[0m\n\u001b[0;32m    403\u001b[0m \u001b[1;33m\u001b[0m\u001b[0m\n\u001b[0;32m    404\u001b[0m     \u001b[1;31m# Create the parser.\u001b[0m\u001b[1;33m\u001b[0m\u001b[1;33m\u001b[0m\u001b[0m\n\u001b[1;32m--> 405\u001b[1;33m     \u001b[0mparser\u001b[0m \u001b[1;33m=\u001b[0m \u001b[0mTextFileReader\u001b[0m\u001b[1;33m(\u001b[0m\u001b[0mfilepath_or_buffer\u001b[0m\u001b[1;33m,\u001b[0m \u001b[1;33m**\u001b[0m\u001b[0mkwds\u001b[0m\u001b[1;33m)\u001b[0m\u001b[1;33m\u001b[0m\u001b[0m\n\u001b[0m\u001b[0;32m    406\u001b[0m \u001b[1;33m\u001b[0m\u001b[0m\n\u001b[0;32m    407\u001b[0m     \u001b[1;32mif\u001b[0m \u001b[0mchunksize\u001b[0m \u001b[1;32mor\u001b[0m \u001b[0miterator\u001b[0m\u001b[1;33m:\u001b[0m\u001b[1;33m\u001b[0m\u001b[0m\n",
      "\u001b[1;32m~\\Anaconda3\\lib\\site-packages\\pandas\\io\\parsers.py\u001b[0m in \u001b[0;36m__init__\u001b[1;34m(self, f, engine, **kwds)\u001b[0m\n\u001b[0;32m    762\u001b[0m             \u001b[0mself\u001b[0m\u001b[1;33m.\u001b[0m\u001b[0moptions\u001b[0m\u001b[1;33m[\u001b[0m\u001b[1;34m'has_index_names'\u001b[0m\u001b[1;33m]\u001b[0m \u001b[1;33m=\u001b[0m \u001b[0mkwds\u001b[0m\u001b[1;33m[\u001b[0m\u001b[1;34m'has_index_names'\u001b[0m\u001b[1;33m]\u001b[0m\u001b[1;33m\u001b[0m\u001b[0m\n\u001b[0;32m    763\u001b[0m \u001b[1;33m\u001b[0m\u001b[0m\n\u001b[1;32m--> 764\u001b[1;33m         \u001b[0mself\u001b[0m\u001b[1;33m.\u001b[0m\u001b[0m_make_engine\u001b[0m\u001b[1;33m(\u001b[0m\u001b[0mself\u001b[0m\u001b[1;33m.\u001b[0m\u001b[0mengine\u001b[0m\u001b[1;33m)\u001b[0m\u001b[1;33m\u001b[0m\u001b[0m\n\u001b[0m\u001b[0;32m    765\u001b[0m \u001b[1;33m\u001b[0m\u001b[0m\n\u001b[0;32m    766\u001b[0m     \u001b[1;32mdef\u001b[0m \u001b[0mclose\u001b[0m\u001b[1;33m(\u001b[0m\u001b[0mself\u001b[0m\u001b[1;33m)\u001b[0m\u001b[1;33m:\u001b[0m\u001b[1;33m\u001b[0m\u001b[0m\n",
      "\u001b[1;32m~\\Anaconda3\\lib\\site-packages\\pandas\\io\\parsers.py\u001b[0m in \u001b[0;36m_make_engine\u001b[1;34m(self, engine)\u001b[0m\n\u001b[0;32m    983\u001b[0m     \u001b[1;32mdef\u001b[0m \u001b[0m_make_engine\u001b[0m\u001b[1;33m(\u001b[0m\u001b[0mself\u001b[0m\u001b[1;33m,\u001b[0m \u001b[0mengine\u001b[0m\u001b[1;33m=\u001b[0m\u001b[1;34m'c'\u001b[0m\u001b[1;33m)\u001b[0m\u001b[1;33m:\u001b[0m\u001b[1;33m\u001b[0m\u001b[0m\n\u001b[0;32m    984\u001b[0m         \u001b[1;32mif\u001b[0m \u001b[0mengine\u001b[0m \u001b[1;33m==\u001b[0m \u001b[1;34m'c'\u001b[0m\u001b[1;33m:\u001b[0m\u001b[1;33m\u001b[0m\u001b[0m\n\u001b[1;32m--> 985\u001b[1;33m             \u001b[0mself\u001b[0m\u001b[1;33m.\u001b[0m\u001b[0m_engine\u001b[0m \u001b[1;33m=\u001b[0m \u001b[0mCParserWrapper\u001b[0m\u001b[1;33m(\u001b[0m\u001b[0mself\u001b[0m\u001b[1;33m.\u001b[0m\u001b[0mf\u001b[0m\u001b[1;33m,\u001b[0m \u001b[1;33m**\u001b[0m\u001b[0mself\u001b[0m\u001b[1;33m.\u001b[0m\u001b[0moptions\u001b[0m\u001b[1;33m)\u001b[0m\u001b[1;33m\u001b[0m\u001b[0m\n\u001b[0m\u001b[0;32m    986\u001b[0m         \u001b[1;32melse\u001b[0m\u001b[1;33m:\u001b[0m\u001b[1;33m\u001b[0m\u001b[0m\n\u001b[0;32m    987\u001b[0m             \u001b[1;32mif\u001b[0m \u001b[0mengine\u001b[0m \u001b[1;33m==\u001b[0m \u001b[1;34m'python'\u001b[0m\u001b[1;33m:\u001b[0m\u001b[1;33m\u001b[0m\u001b[0m\n",
      "\u001b[1;32m~\\Anaconda3\\lib\\site-packages\\pandas\\io\\parsers.py\u001b[0m in \u001b[0;36m__init__\u001b[1;34m(self, src, **kwds)\u001b[0m\n\u001b[0;32m   1603\u001b[0m         \u001b[0mkwds\u001b[0m\u001b[1;33m[\u001b[0m\u001b[1;34m'allow_leading_cols'\u001b[0m\u001b[1;33m]\u001b[0m \u001b[1;33m=\u001b[0m \u001b[0mself\u001b[0m\u001b[1;33m.\u001b[0m\u001b[0mindex_col\u001b[0m \u001b[1;32mis\u001b[0m \u001b[1;32mnot\u001b[0m \u001b[1;32mFalse\u001b[0m\u001b[1;33m\u001b[0m\u001b[0m\n\u001b[0;32m   1604\u001b[0m \u001b[1;33m\u001b[0m\u001b[0m\n\u001b[1;32m-> 1605\u001b[1;33m         \u001b[0mself\u001b[0m\u001b[1;33m.\u001b[0m\u001b[0m_reader\u001b[0m \u001b[1;33m=\u001b[0m \u001b[0mparsers\u001b[0m\u001b[1;33m.\u001b[0m\u001b[0mTextReader\u001b[0m\u001b[1;33m(\u001b[0m\u001b[0msrc\u001b[0m\u001b[1;33m,\u001b[0m \u001b[1;33m**\u001b[0m\u001b[0mkwds\u001b[0m\u001b[1;33m)\u001b[0m\u001b[1;33m\u001b[0m\u001b[0m\n\u001b[0m\u001b[0;32m   1606\u001b[0m \u001b[1;33m\u001b[0m\u001b[0m\n\u001b[0;32m   1607\u001b[0m         \u001b[1;31m# XXX\u001b[0m\u001b[1;33m\u001b[0m\u001b[1;33m\u001b[0m\u001b[0m\n",
      "\u001b[1;32mpandas/_libs/parsers.pyx\u001b[0m in \u001b[0;36mpandas._libs.parsers.TextReader.__cinit__ (pandas\\_libs\\parsers.c:4209)\u001b[1;34m()\u001b[0m\n",
      "\u001b[1;32mpandas/_libs/parsers.pyx\u001b[0m in \u001b[0;36mpandas._libs.parsers.TextReader._setup_parser_source (pandas\\_libs\\parsers.c:8873)\u001b[1;34m()\u001b[0m\n",
      "\u001b[1;31mFileNotFoundError\u001b[0m: File b'games.csv' does not exist"
     ]
    }
   ],
   "source": [
    "m=[]\n",
    "l=[]\n",
    "def printData(name,year,minplayers,maxplayers,playingtime,minplaytime,maxplaytime,minage,users_rated,total_owners,total_traders,total_wanters,total_wishers,total_comments,total_weights,average_weight,game_id):\n",
    "    \n",
    "    print(name)\n",
    "    print(year)\n",
    "    print(minplayers)\n",
    "    print(maxplayers)\n",
    "    print(playingtime)\n",
    "    print(minplaytime)\n",
    "    print(maxplaytime)\n",
    "    print(minage)\n",
    "    print(users_rated)\n",
    "    print(total_owners)\n",
    "    print(total_traders)\n",
    "    print(total_wanters)\n",
    "    print(total_wishers)\n",
    "    print(total_comments)\n",
    "    print(total_weights)\n",
    "    print(average_weight)\n",
    "    print(game_id)\n",
    "    root.destroy()\n",
    "\n",
    "def get_input():\n",
    "\n",
    "    name = entry1.get()\n",
    "    year = entry2.get()\n",
    "    minplayers=entry3.get()\n",
    "    maxplayers=entry4.get()\n",
    "    playingtime=entry5.get()\n",
    "    minplaytime=entry6.get()\n",
    "    maxplaytime=entry7.get()\n",
    "    minage=entry8.get()\n",
    "    users_rated=entry9.get()\n",
    "    total_owners=entry10.get()\n",
    "    total_traders=entry11.get()\n",
    "    total_wanters=entry12.get()\n",
    "    total_wishers=entry13.get()\n",
    "    total_comments=entry14.get()\n",
    "    total_weights=entry15.get()\n",
    "    average_weight=entry16.get()\n",
    "    game_id=entry17.get()\n",
    "    \n",
    "    \n",
    "    m=[year,minplayers,maxplayers,playingtime,minplaytime,maxplaytime,minage,users_rated,total_owners,total_traders,total_wanters,total_wishers,total_comments,total_weights,average_weight]\n",
    "    l.append(m)\n",
    "    printData(name,year,minplayers,maxplayers,playingtime,minplaytime,maxplaytime,minage,users_rated,total_owners,total_traders,total_wanters,total_wishers,total_comments,total_weights,average_weight,game_id)\n",
    "\n",
    "root=Tk()\n",
    "\n",
    "label1 = Label(root,text = 'Name of Board Game(default : eclipse)')\n",
    "label1.pack()\n",
    "label1.config(justify = CENTER)\n",
    "entry1=Entry(root,width=30)\n",
    "entry1.pack()\n",
    "\n",
    "label2 = Label(root,text = 'year published(default : 2011)')\n",
    "label2.pack()\n",
    "label2.config(justify = CENTER)\n",
    "entry2=Entry(root,width=30)\n",
    "entry2.pack()\n",
    "\n",
    "label3 = Label(root,text = 'minimum players required to play the game(default : 2)')\n",
    "label3.pack()\n",
    "label3.config(justify = CENTER)\n",
    "entry3=Entry(root,width=30)\n",
    "entry3.pack()\n",
    "\n",
    "label4 = Label(root,text = 'maximum players the game can accomodate(default : 6)')\n",
    "label4.pack()\n",
    "label4.config(justify = CENTER)\n",
    "entry4=Entry(root,width=30)\n",
    "entry4.pack()\n",
    "\n",
    "label5 = Label(root,text = 'expected play time for an average session in minutes(default : 200)')\n",
    "label5.pack()\n",
    "label5.config(justify = CENTER)\n",
    "entry5=Entry(root,width=30)\n",
    "entry5.pack()\n",
    "\n",
    "label6 = Label(root,text = 'minimum play time expected in minutes(default : 60)')\n",
    "label6.pack()\n",
    "label6.config(justify = CENTER)\n",
    "entry6=Entry(root,width=30)\n",
    "entry6.pack()\n",
    "\n",
    "label7 = Label(root,text = 'maximum play time expeccted in minutes(default : 200)')\n",
    "label7.pack()\n",
    "label7.config(justify = CENTER)\n",
    "entry7=Entry(root,width=30)\n",
    "entry7.pack()\n",
    "\n",
    "label8 = Label(root,text = 'minimum age of players in years(default : 14 years)')\n",
    "label8.pack()\n",
    "label8.config(justify = CENTER)\n",
    "entry8=Entry(root,width=30)\n",
    "entry8.pack()\n",
    "\n",
    "label9 = Label(root,text = 'number of buyers expected to give a rating(default : 15709)')\n",
    "label9.pack()\n",
    "label9.config(justify = CENTER)\n",
    "entry9=Entry(root,width=30)\n",
    "entry9.pack()\n",
    "\n",
    "label10 = Label(root,text = 'number of copies expected to sell(default : 17611)')\n",
    "label10.pack()\n",
    "label10.config(justify = CENTER)\n",
    "entry10=Entry(root,width=30)\n",
    "entry10.pack()\n",
    "\n",
    "label11 = Label(root,text = 'total traders booked for distribution of game(default : 273)')\n",
    "label11.pack()\n",
    "label11.config(justify = CENTER)\n",
    "entry11=Entry(root,width=30)\n",
    "entry11.pack()\n",
    "\n",
    "label12 = Label(root,text = 'number of players expressing a desire to play a game(default : 1108)')\n",
    "label12.pack()\n",
    "label12.config(justify = CENTER)\n",
    "entry12=Entry(root,width=30)\n",
    "entry12.pack()\n",
    "\n",
    "label13 = Label(root,text = 'number of players who have pre-ordered the game(default : 5581)')\n",
    "label13.pack()\n",
    "label13.config(justify = CENTER)\n",
    "entry13=Entry(root,width=30)\n",
    "entry13.pack()\n",
    "\n",
    "label14 = Label(root,text = 'amount of feedback messages given by players(default : 3188)')\n",
    "label14.pack()\n",
    "label14.config(justify = CENTER)\n",
    "entry14=Entry(root,width=30)\n",
    "entry14.pack()\n",
    "\n",
    "label15 = Label(root,text = 'total weight of the game(default : 1486)')\n",
    "label15.pack()\n",
    "label15.config(justify = CENTER)\n",
    "entry15=Entry(root,width=30)\n",
    "entry15.pack()\n",
    "\n",
    "label16= Label(root,text = 'average weight of the game(default : 3.6359)')\n",
    "label16.pack()\n",
    "label16.config(justify = CENTER)\n",
    "entry16=Entry(root,width=30)\n",
    "entry16.pack()\n",
    "\n",
    "label17= Label(root,text = 'enter id of game(default : )')\n",
    "label17.pack()\n",
    "label17.config(justify = CENTER)\n",
    "entry17=Entry(root,width=30)\n",
    "entry17.pack()\n",
    "\n",
    "button1=Button(root,text='submit')\n",
    "button1.pack()\n",
    "button1.config(command=get_input)\n",
    "root.mainloop()\n",
    "\n",
    "games = pandas.read_csv(\"games.csv\")\n",
    "games = games.dropna(axis=0)\n",
    "\n",
    "columns = games.columns.tolist()\n",
    "columns = [c for c in columns if c not in [\"bayes_average_rating\", \"average_rating\", \"type\", \"name\", \"id\"]]\n",
    "target = \"average_rating\"\n",
    "train = games.sample(frac=0.8, random_state=1)\n",
    "test = games.loc[~games.index.isin(train.index)]\n",
    "model = LinearRegression()\n",
    "model.fit(train[columns], train[target])\n",
    "predictions = model.predict(test[columns])\n",
    "test_example=pandas.DataFrame(l)\n",
    "predictions = model.predict(test_example)\n",
    "print(predictions)\n"
   ]
  },
  {
   "cell_type": "code",
   "execution_count": 30,
   "metadata": {},
   "outputs": [
    {
     "name": "stdout",
     "output_type": "stream",
     "text": [
      "['yearpublished', 'minplayers', 'maxplayers', 'playingtime', 'minplaytime', 'maxplaytime', 'minage', 'users_rated', 'total_owners', 'total_traders', 'total_wanters', 'total_wishers', 'total_comments', 'total_weights', 'average_weight']\n"
     ]
    }
   ],
   "source": [
    "print(columns)"
   ]
  },
  {
   "cell_type": "code",
   "execution_count": 31,
   "metadata": {},
   "outputs": [
    {
     "name": "stdout",
     "output_type": "stream",
     "text": [
      "  0  1  2  3  4  5  6  7  8  9  10 11 12 13 14 15\n",
      "0  1  1  1  1  1  1  1  1  1  1  1  1  1  1  1  1\n"
     ]
    }
   ],
   "source": [
    "print(test_example)\n"
   ]
  },
  {
   "cell_type": "code",
   "execution_count": 38,
   "metadata": {},
   "outputs": [
    {
     "data": {
      "text/plain": [
       "6.2668729183269587"
      ]
     },
     "execution_count": 38,
     "metadata": {},
     "output_type": "execute_result"
    }
   ],
   "source": [
    "predictions = model.predict(test[columns])\n",
    "mean_squared_error(predictions, test[target])"
   ]
  },
  {
   "cell_type": "code",
   "execution_count": null,
   "metadata": {
    "collapsed": true
   },
   "outputs": [],
   "source": []
  }
 ],
 "metadata": {
  "kernelspec": {
   "display_name": "Python 2",
   "language": "python",
   "name": "python2"
  },
  "language_info": {
   "codemirror_mode": {
    "name": "ipython",
    "version": 2
   },
   "file_extension": ".py",
   "mimetype": "text/x-python",
   "name": "python",
   "nbconvert_exporter": "python",
   "pygments_lexer": "ipython2",
   "version": "2.7.14"
  }
 },
 "nbformat": 4,
 "nbformat_minor": 2
}
